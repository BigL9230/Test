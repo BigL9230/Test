{
 "cells": [
  {
   "cell_type": "code",
   "execution_count": null,
   "id": "8d651278",
   "metadata": {},
   "outputs": [],
   "source": [
    "!pip install requests\n",
    "!pip install pandas"
   ]
  },
  {
   "cell_type": "code",
   "execution_count": null,
   "id": "89fe0e99",
   "metadata": {},
   "outputs": [],
   "source": [
    "http://ich-tanke-strom-int.switzerlandnorth.cloudapp.azure.com:8080/geoserver/ich-tanke-strom/ows?\n",
    "service=WFS&\n",
    "version=1.0.0&\n",
    "request=GetFeature&\n",
    "typeName=ich-tanke-strom%3Aevse&\n",
    "maxFeatures=50&\n",
    "outputFormat=application%2Fjson&\n",
    "cql_filter=DWithin(geometry,POINT(12%2048),300,meters)\n"
   ]
  },
  {
   "cell_type": "code",
   "execution_count": 3,
   "id": "1f79fbbc",
   "metadata": {},
   "outputs": [
    {
     "name": "stderr",
     "output_type": "stream",
     "text": [
      "IOPub data rate exceeded.\n",
      "The notebook server will temporarily stop sending output\n",
      "to the client in order to avoid crashing it.\n",
      "To change this limit, set the config variable\n",
      "`--NotebookApp.iopub_data_rate_limit`.\n",
      "\n",
      "Current values:\n",
      "NotebookApp.iopub_data_rate_limit=1000000.0 (bytes/sec)\n",
      "NotebookApp.rate_limit_window=3.0 (secs)\n",
      "\n"
     ]
    }
   ],
   "source": [
    "import requests\n",
    "import pandas as pd\n",
    "\n",
    "# URL der REST-API mit den gegebenen Credentials\n",
    "#url = 'http://ich-tanke-strom-int.switzerlandnorth.cloudapp.azure.com:8080/geoserver/ich-tanke-strom/ows?service=WFS&version=1.0.0&request=GetFeature&typeName=ich-tanke-strom%3Aevse&maxFeatures=50&outputFormat=application%2Fjson&cql_filter=DWithin(geometry,POINT(12%2048),300,meters)'\n",
    "url = \"https://data.geo.admin.ch/ch.bfe.ladestellen-elektromobilitaet/data/oicp/ch.bfe.ladestellen-elektromobilitaet.json\"\n",
    "\n",
    "# GET-Anfrage senden\n",
    "response = requests.get(url)\n",
    "#for i in range(5):\n",
    "#    print(\"Id:\",data['elements'][i]['id'], \"Name:\", data[\"elements\"][i][\"tags\"][\"name\"])\n",
    "\n",
    "data= response.json()\n",
    "#df = pd.json_normalize(data)\n",
    "\n",
    "# Lese das JSON-File ein\n",
    "#with open('dein_file.json', 'r') as f:\n",
    " #   data = json.load(f)\n",
    "# Wandle das JSON-Objekt in einen DataFrame um\n",
    "#df = pd.json_normalize(data)\n",
    "\n",
    "# Zeige den DataFrame an\n",
    "#print(df)\n",
    "\n",
    "#df.describe()\n",
    "print(len(data))\n",
    "print(data)\n"
   ]
  },
  {
   "cell_type": "code",
   "execution_count": null,
   "id": "7f5ef77b",
   "metadata": {},
   "outputs": [],
   "source": [
    "import pandas as pd\n",
    "import json\n",
    "\n",
    "# Lese das JSON-File ein\n",
    "with open('Ladestationen.json', 'r') as f:\n",
    "    data = json.load(f)\n",
    "\n",
    "# Wandle das JSON-Objekt in einen DataFrame um\n",
    "df = pd.json_normalize(data)\n",
    "\n",
    "# Zeige den DataFrame an\n",
    "print(df)\n",
    "\n"
   ]
  },
  {
   "cell_type": "code",
   "execution_count": null,
   "id": "105f3346",
   "metadata": {},
   "outputs": [],
   "source": [
    "import requests\n",
    "import json\n",
    "import pandas as pd\n",
    "url = \"http://ich-tanke-strom-int.switzerlandnorth.cloudapp.azure.com:8080/geoserver/ich-tanke-strom/ows?\"\n",
    "\n",
    "querystring = {\"service\": \"WFS\",\n",
    "               \"version\": \"1.0.0\",\n",
    "               \"request\": \"GetFeature\",\n",
    "               \"typeName\": \"ich-tanke-strom:evse\",\n",
    "               \"maxFeatures\": \"50\",\n",
    "               \"outputFormat\": \"application/json\"}\n",
    "\n",
    "response = requests.get(url, params=querystring)\n",
    "\n",
    "#df = df[[]]\n",
    "\n",
    "#print(response.json())\n",
    "#df = pd.json_normalize(data)\n",
    "#print(df)\n",
    "\n",
    "print(response)"
   ]
  },
  {
   "cell_type": "code",
   "execution_count": null,
   "id": "ba3e9be4",
   "metadata": {},
   "outputs": [],
   "source": [
    "import pandas as pd\n",
    "\n",
    "# Pandas supports zip file reads (define separator via the sep=\"\" command)\n",
    "data = pd.read_csv(\"archive.zip\", sep=\";\")\n",
    "data.head(5)"
   ]
  },
  {
   "cell_type": "code",
   "execution_count": null,
   "id": "d6b617ee",
   "metadata": {},
   "outputs": [],
   "source": [
    "import json\n",
    "\n",
    "import pandas as pd\n",
    "\n",
    "# Read data from your prepared example .json-file (look at w3schools.com for examples)\n",
    "data = pd.read_json(\"example.json\")\n",
    "\n",
    "# Print the data \n",
    "print(data)\n",
    "\n",
    "obj = json.loads(df)\n",
    "\n",
    "print(obj[\"test2\"])\n",
    "\n",
    "table = []\n",
    "\n",
    "with open('parsed.json', 'r') as f:\n",
    "    content = f.read()\n",
    "\n",
    "# remove trailing comma:\n",
    "content = content.rstrip(\",\")\n",
    "\n",
    "# wrap with brackets:\n",
    "content = \"[\" + content + \"]\"\n",
    "\n",
    "# pase the json list\n",
    "table = json.loads(content)\n",
    "print(table)\n"
   ]
  },
  {
   "cell_type": "code",
   "execution_count": null,
   "id": "ceea6e8c",
   "metadata": {},
   "outputs": [],
   "source": [
    "import sqlite3\n",
    "\n",
    "conn = sqlite3.connect('test.db')\n",
    "print(\"Opened database successfully\")\n",
    "\n",
    "# Read data from your prepared example .csv-file into a dataframe (define seperator)\n",
    "carinsurance_df = pd.read_csv(\"car_insurance_claim.csv\", delimiter=';', header=None, skiprows=1, names=['ID','KIDSDRIV','AGE','HOMEKIDS','YOJ','INCOME_USD','PARENT1','HOME_VAL_USD','MSTATUS','GENDER','EDUCATION','OCCUPATION','TRAVTIME','CAR_USE','BLUEBOOK_USD','TIF','CAR_TYPE','RED_CAR','OLDCLAIM_USD','CLM_FREQ','REVOKED','MVR_PTS','CLM_AMT_USD','CAR_AGE','CLAIM_FLAG','URBANICITY'], index_col=False)\n",
    "carinsurance_df\n",
    "\n",
    "carinsurance_df.info()\n",
    "\n",
    "import sqlite3 as sql\n",
    "import pandas as pd\n",
    "import matplotlib.pyplot as plt\n",
    "\n",
    "conn = sql.connect('Ladestationen.db')\n",
    "carinsurance_df.to_sql('carinsurance_tbl', conn, if_exists='replace')\n",
    "\n",
    "df_read = pd.read_sql(\"SELECT * FROM carinsurance_tbl as T1 INNER JOIN carinsurance_car_types_tbl as T2 ON T1.CAR_TYPE = T2.CAR_TYPE WHERE T2.ID = 4\", con=conn)\n",
    "\n",
    "conn.close()\n",
    "df_read"
   ]
  }
 ],
 "metadata": {
  "kernelspec": {
   "display_name": "Python 3 (ipykernel)",
   "language": "python",
   "name": "python3"
  },
  "language_info": {
   "codemirror_mode": {
    "name": "ipython",
    "version": 3
   },
   "file_extension": ".py",
   "mimetype": "text/x-python",
   "name": "python",
   "nbconvert_exporter": "python",
   "pygments_lexer": "ipython3",
   "version": "3.8.16"
  }
 },
 "nbformat": 4,
 "nbformat_minor": 5
}
